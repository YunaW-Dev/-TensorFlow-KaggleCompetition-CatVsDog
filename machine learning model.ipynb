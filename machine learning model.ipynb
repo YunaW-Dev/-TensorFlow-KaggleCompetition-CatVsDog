{
  "nbformat": 4,
  "nbformat_minor": 5,
  "metadata": {
    "kernelspec": {
      "display_name": "Python 3 (ipykernel)",
      "language": "python",
      "name": "python3"
    },
    "language_info": {
      "codemirror_mode": {
        "name": "ipython",
        "version": 3
      },
      "file_extension": ".py",
      "mimetype": "text/x-python",
      "name": "python",
      "nbconvert_exporter": "python",
      "pygments_lexer": "ipython3",
      "version": "3.7.11"
    },
    "colab": {
      "name": "machine learning model.ipynb",
      "provenance": [],
      "include_colab_link": true
    }
  },
  "cells": [
    {
      "cell_type": "markdown",
      "metadata": {
        "id": "view-in-github",
        "colab_type": "text"
      },
      "source": [
        "<a href=\"https://colab.research.google.com/github/YunaW-Dev/-TensorFlow-KaggleCompetition-CatVsDog/blob/main/machine%20learning%20model.ipynb\" target=\"_parent\"><img src=\"https://colab.research.google.com/assets/colab-badge.svg\" alt=\"Open In Colab\"/></a>"
      ]
    },
    {
      "cell_type": "code",
      "metadata": {
        "id": "d753beb3-22e2-451e-9f4b-54d2f75439e9",
        "outputId": "6842e9f8-6587-4009-8299-820bb9475728",
        "colab": {
          "base_uri": "https://localhost:8080/"
        }
      },
      "source": [
        "!wget https://storage.googleapis.com/mledu-datasets/cats_and_dogs_filtered.zip"
      ],
      "id": "d753beb3-22e2-451e-9f4b-54d2f75439e9",
      "execution_count": 26,
      "outputs": [
        {
          "output_type": "stream",
          "name": "stdout",
          "text": [
            "--2021-11-05 15:36:20--  https://storage.googleapis.com/mledu-datasets/cats_and_dogs_filtered.zip\n",
            "Resolving storage.googleapis.com (storage.googleapis.com)... 172.217.193.128, 172.217.204.128, 172.217.203.128, ...\n",
            "Connecting to storage.googleapis.com (storage.googleapis.com)|172.217.193.128|:443... connected.\n",
            "HTTP request sent, awaiting response... 200 OK\n",
            "Length: 68606236 (65M) [application/zip]\n",
            "Saving to: ‘cats_and_dogs_filtered.zip.1’\n",
            "\n",
            "cats_and_dogs_filte 100%[===================>]  65.43M   136MB/s    in 0.5s    \n",
            "\n",
            "2021-11-05 15:36:21 (136 MB/s) - ‘cats_and_dogs_filtered.zip.1’ saved [68606236/68606236]\n",
            "\n"
          ]
        }
      ]
    },
    {
      "cell_type": "code",
      "metadata": {
        "id": "hroQfMPmvnBf"
      },
      "source": [
        "import zipfile\n",
        "\n",
        "zip_dir= 'cats_and_dogs_filtered.zip'\n",
        "zip =zipfile.ZipFile(zip_dir, 'r')\n",
        "zip.extractall()\n",
        "zip.close()"
      ],
      "id": "hroQfMPmvnBf",
      "execution_count": 27,
      "outputs": []
    },
    {
      "cell_type": "code",
      "metadata": {
        "id": "wWes94qFv0m2"
      },
      "source": [
        "import os\n",
        "base_dir= 'cats_and_dogs_filtered'\n",
        "train_dir= os.path.join(base_dir, 'train')\n",
        "validation_dir= os.path.join(base_dir, 'validation')\n",
        "train_cats_dir= os.path.join(train_dir, 'cats')\n",
        "train_dogs_dir= os.path.join(train_dir, 'dogs')\n",
        "validation_cats_dir=os.path.join(validation_dir, 'cats')\n",
        "validation_dogs_dir=os.path.join(validation_dir, 'dogs')"
      ],
      "id": "wWes94qFv0m2",
      "execution_count": 28,
      "outputs": []
    },
    {
      "cell_type": "code",
      "metadata": {
        "id": "zPptQOpSwNYX"
      },
      "source": [
        "from tensorflow.keras.preprocessing.image import ImageDataGenerator\n",
        "train_data=ImageDataGenerator( rescale = 1.0/255 )\n",
        "test_data=ImageDataGenerator( rescale = 1.0/255 )\n",
        "train_generator=train_data.flow_from_directory(train_dir,\n",
        "                                                    batch_size=20,\n",
        "                                                    class_mode='binary',\n",
        "                                                    target_size=(150, 150))     \n",
        "validation_generator=test_data.flow_from_directory(validation_dir,\n",
        "                                                         batch_size=20,\n",
        "                                                         class_mode  = 'binary',\n",
        "                                                         target_size = (150, 150))"
      ],
      "id": "zPptQOpSwNYX",
      "execution_count": null,
      "outputs": []
    },
    {
      "cell_type": "code",
      "metadata": {
        "id": "m4yLjnctv7cm",
        "outputId": "65bc57cd-06c7-4e79-c061-b32151e167a7",
        "colab": {
          "base_uri": "https://localhost:8080/"
        }
      },
      "source": [
        "import tensorflow as tf\n",
        "model = tf.keras.models.Sequential([\n",
        "    tf.keras.layers.Conv2D(16, (3,3), activation='relu', input_shape=(150, 150, 3)),\n",
        "    tf.keras.layers.MaxPooling2D(2,2),\n",
        "    tf.keras.layers.Conv2D(32, (3,3), activation='relu'),\n",
        "    tf.keras.layers.MaxPooling2D(2,2), \n",
        "    tf.keras.layers.Conv2D(64, (3,3), activation='relu'), \n",
        "    tf.keras.layers.MaxPooling2D(2,2),\n",
        "    tf.keras.layers.Flatten(), \n",
        "    tf.keras.layers.Dense(1024, activation='relu'), \n",
        "    tf.keras.layers.Dense(1, activation='sigmoid')  \n",
        "])\n",
        "model.summary()"
      ],
      "id": "m4yLjnctv7cm",
      "execution_count": 29,
      "outputs": [
        {
          "output_type": "stream",
          "name": "stdout",
          "text": [
            "Model: \"sequential_3\"\n",
            "_________________________________________________________________\n",
            "Layer (type)                 Output Shape              Param #   \n",
            "=================================================================\n",
            "conv2d_9 (Conv2D)            (None, 148, 148, 16)      448       \n",
            "_________________________________________________________________\n",
            "max_pooling2d_9 (MaxPooling2 (None, 74, 74, 16)        0         \n",
            "_________________________________________________________________\n",
            "conv2d_10 (Conv2D)           (None, 72, 72, 32)        4640      \n",
            "_________________________________________________________________\n",
            "max_pooling2d_10 (MaxPooling (None, 36, 36, 32)        0         \n",
            "_________________________________________________________________\n",
            "conv2d_11 (Conv2D)           (None, 34, 34, 64)        18496     \n",
            "_________________________________________________________________\n",
            "max_pooling2d_11 (MaxPooling (None, 17, 17, 64)        0         \n",
            "_________________________________________________________________\n",
            "flatten_3 (Flatten)          (None, 18496)             0         \n",
            "_________________________________________________________________\n",
            "dense_6 (Dense)              (None, 1024)              18940928  \n",
            "_________________________________________________________________\n",
            "dense_7 (Dense)              (None, 1)                 1025      \n",
            "=================================================================\n",
            "Total params: 18,965,537\n",
            "Trainable params: 18,965,537\n",
            "Non-trainable params: 0\n",
            "_________________________________________________________________\n"
          ]
        }
      ]
    },
    {
      "cell_type": "code",
      "metadata": {
        "id": "9-_hnoOCwKox"
      },
      "source": [
        "class myCallback(tf.keras.callbacks.Callback):\n",
        "      def on_epoch_end(self, epochs, logs={}):\n",
        "            if (logs.get('acc')>0.98):\n",
        "                self.model.stop_training = True\n",
        "\n",
        "train_result = model.fit(train_generator,\n",
        "                              validation_data=validation_generator,\n",
        "                              steps_per_epoch=100,\n",
        "                              epochs=15,\n",
        "                              validation_steps=50,\n",
        "                              verbose=2)"
      ],
      "id": "9-_hnoOCwKox",
      "execution_count": null,
      "outputs": []
    }
  ]
}