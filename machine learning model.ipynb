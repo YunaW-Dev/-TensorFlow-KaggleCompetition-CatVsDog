{
  "nbformat": 4,
  "nbformat_minor": 5,
  "metadata": {
    "kernelspec": {
      "display_name": "Python 3 (ipykernel)",
      "language": "python",
      "name": "python3"
    },
    "language_info": {
      "codemirror_mode": {
        "name": "ipython",
        "version": 3
      },
      "file_extension": ".py",
      "mimetype": "text/x-python",
      "name": "python",
      "nbconvert_exporter": "python",
      "pygments_lexer": "ipython3",
      "version": "3.7.11"
    },
    "colab": {
      "name": "machine learning model.ipynb",
      "provenance": [],
      "include_colab_link": true
    },
    "accelerator": "GPU"
  },
  "cells": [
    {
      "cell_type": "markdown",
      "metadata": {
        "id": "view-in-github",
        "colab_type": "text"
      },
      "source": [
        "<a href=\"https://colab.research.google.com/github/YunaW-Dev/-TensorFlow-KaggleCompetition-CatVsDog/blob/main/machine%20learning%20model.ipynb\" target=\"_parent\"><img src=\"https://colab.research.google.com/assets/colab-badge.svg\" alt=\"Open In Colab\"/></a>"
      ]
    },
    {
      "cell_type": "code",
      "metadata": {
        "id": "d753beb3-22e2-451e-9f4b-54d2f75439e9",
        "colab": {
          "base_uri": "https://localhost:8080/"
        },
        "outputId": "fed6c984-943c-474f-bc97-85ae554dbc18"
      },
      "source": [
        "!wget https://storage.googleapis.com/mledu-datasets/cats_and_dogs_filtered.zip"
      ],
      "id": "d753beb3-22e2-451e-9f4b-54d2f75439e9",
      "execution_count": 1,
      "outputs": [
        {
          "output_type": "stream",
          "name": "stdout",
          "text": [
            "--2021-11-06 11:52:30--  https://storage.googleapis.com/mledu-datasets/cats_and_dogs_filtered.zip\n",
            "Resolving storage.googleapis.com (storage.googleapis.com)... 74.125.124.128, 172.217.212.128, 172.217.214.128, ...\n",
            "Connecting to storage.googleapis.com (storage.googleapis.com)|74.125.124.128|:443... connected.\n",
            "HTTP request sent, awaiting response... 200 OK\n",
            "Length: 68606236 (65M) [application/zip]\n",
            "Saving to: ‘cats_and_dogs_filtered.zip’\n",
            "\n",
            "cats_and_dogs_filte 100%[===================>]  65.43M   175MB/s    in 0.4s    \n",
            "\n",
            "2021-11-06 11:52:30 (175 MB/s) - ‘cats_and_dogs_filtered.zip’ saved [68606236/68606236]\n",
            "\n"
          ]
        }
      ]
    },
    {
      "cell_type": "code",
      "metadata": {
        "id": "hroQfMPmvnBf"
      },
      "source": [
        "import zipfile\n",
        "\n",
        "zip_dir= 'cats_and_dogs_filtered.zip'\n",
        "zip =zipfile.ZipFile(zip_dir, 'r')\n",
        "zip.extractall()\n",
        "zip.close()"
      ],
      "id": "hroQfMPmvnBf",
      "execution_count": 2,
      "outputs": []
    },
    {
      "cell_type": "code",
      "metadata": {
        "id": "wWes94qFv0m2"
      },
      "source": [
        "import os\n",
        "base_dir= 'cats_and_dogs_filtered'\n",
        "train_dir= os.path.join(base_dir, 'train')\n",
        "validation_dir= os.path.join(base_dir, 'validation')\n",
        "train_cats_dir= os.path.join(train_dir, 'cats')\n",
        "train_dogs_dir= os.path.join(train_dir, 'dogs')\n",
        "validation_cats_dir=os.path.join(validation_dir, 'cats')\n",
        "validation_dogs_dir=os.path.join(validation_dir, 'dogs')"
      ],
      "id": "wWes94qFv0m2",
      "execution_count": 3,
      "outputs": []
    },
    {
      "cell_type": "code",
      "metadata": {
        "colab": {
          "base_uri": "https://localhost:8080/"
        },
        "id": "zPptQOpSwNYX",
        "outputId": "88f16064-6eaa-457f-a7d1-4e38d034cad7"
      },
      "source": [
        "from tensorflow.keras.preprocessing.image import ImageDataGenerator\n",
        "train_data=ImageDataGenerator( rescale = 1.0/255 )\n",
        "test_data=ImageDataGenerator( rescale = 1.0/255 )\n",
        "train_generator=train_data.flow_from_directory(train_dir,\n",
        "                                                    batch_size=20,\n",
        "                                                    class_mode='binary',\n",
        "                                                    target_size=(150, 150))     \n",
        "validation_generator=test_data.flow_from_directory(validation_dir,\n",
        "                                                         batch_size=20,\n",
        "                                                         class_mode  = 'binary',\n",
        "                                                         target_size = (150, 150))"
      ],
      "id": "zPptQOpSwNYX",
      "execution_count": 4,
      "outputs": [
        {
          "output_type": "stream",
          "name": "stdout",
          "text": [
            "Found 2000 images belonging to 2 classes.\n",
            "Found 1000 images belonging to 2 classes.\n"
          ]
        }
      ]
    },
    {
      "cell_type": "code",
      "metadata": {
        "colab": {
          "base_uri": "https://localhost:8080/"
        },
        "id": "m4yLjnctv7cm",
        "outputId": "0c0823af-f1f8-4137-8010-e9f37c995adc"
      },
      "source": [
        "import tensorflow as tf\n",
        "model = tf.keras.models.Sequential([\n",
        "    tf.keras.layers.Conv2D(16, (3,3), activation='relu', input_shape=(150, 150, 3)),\n",
        "    tf.keras.layers.MaxPooling2D(2,2),\n",
        "    tf.keras.layers.Conv2D(32, (3,3), activation='relu'),\n",
        "    tf.keras.layers.MaxPooling2D(2,2), \n",
        "    tf.keras.layers.Conv2D(64, (3,3), activation='relu'), \n",
        "    tf.keras.layers.MaxPooling2D(2,2),\n",
        "    tf.keras.layers.Flatten(), \n",
        "    tf.keras.layers.Dense(1024, activation='relu'), \n",
        "    tf.keras.layers.Dense(1, activation='sigmoid')  \n",
        "])\n",
        "model.summary()"
      ],
      "id": "m4yLjnctv7cm",
      "execution_count": 5,
      "outputs": [
        {
          "output_type": "stream",
          "name": "stdout",
          "text": [
            "Model: \"sequential\"\n",
            "_________________________________________________________________\n",
            "Layer (type)                 Output Shape              Param #   \n",
            "=================================================================\n",
            "conv2d (Conv2D)              (None, 148, 148, 16)      448       \n",
            "_________________________________________________________________\n",
            "max_pooling2d (MaxPooling2D) (None, 74, 74, 16)        0         \n",
            "_________________________________________________________________\n",
            "conv2d_1 (Conv2D)            (None, 72, 72, 32)        4640      \n",
            "_________________________________________________________________\n",
            "max_pooling2d_1 (MaxPooling2 (None, 36, 36, 32)        0         \n",
            "_________________________________________________________________\n",
            "conv2d_2 (Conv2D)            (None, 34, 34, 64)        18496     \n",
            "_________________________________________________________________\n",
            "max_pooling2d_2 (MaxPooling2 (None, 17, 17, 64)        0         \n",
            "_________________________________________________________________\n",
            "flatten (Flatten)            (None, 18496)             0         \n",
            "_________________________________________________________________\n",
            "dense (Dense)                (None, 1024)              18940928  \n",
            "_________________________________________________________________\n",
            "dense_1 (Dense)              (None, 1)                 1025      \n",
            "=================================================================\n",
            "Total params: 18,965,537\n",
            "Trainable params: 18,965,537\n",
            "Non-trainable params: 0\n",
            "_________________________________________________________________\n"
          ]
        }
      ]
    },
    {
      "cell_type": "code",
      "metadata": {
        "id": "t8myxJszxJEJ"
      },
      "source": [
        "from tensorflow.keras.optimizers import RMSprop\n",
        "\n",
        "model.compile(optimizer=RMSprop(learning_rate=0.001),\n",
        "              loss='binary_crossentropy',\n",
        "              metrics = ['accuracy'])"
      ],
      "id": "t8myxJszxJEJ",
      "execution_count": 7,
      "outputs": []
    },
    {
      "cell_type": "code",
      "metadata": {
        "colab": {
          "base_uri": "https://localhost:8080/"
        },
        "id": "9-_hnoOCwKox",
        "outputId": "a7223a41-b54a-44da-935b-3209c7d9588a"
      },
      "source": [
        "# class myCallback(tf.keras.callbacks.Callback):\n",
        "#       def on_epoch_end(self, epochs, logs={}):\n",
        "#             if (logs.get('acc')>0.98):\n",
        "#                 self.model.stop_training = True\n",
        "\n",
        "# it is clearly overfitting\n",
        "train_result = model.fit(train_generator,\n",
        "                              validation_data=validation_generator,\n",
        "                              steps_per_epoch=100,\n",
        "                              epochs=5,\n",
        "                              validation_steps=50,\n",
        "                              verbose=1)"
      ],
      "id": "9-_hnoOCwKox",
      "execution_count": 10,
      "outputs": [
        {
          "output_type": "stream",
          "name": "stdout",
          "text": [
            "Epoch 1/5\n",
            "100/100 [==============================] - 11s 112ms/step - loss: 0.5553 - accuracy: 0.7260 - val_loss: 0.8289 - val_accuracy: 0.5740\n",
            "Epoch 2/5\n",
            "100/100 [==============================] - 11s 110ms/step - loss: 0.4888 - accuracy: 0.7650 - val_loss: 0.5580 - val_accuracy: 0.7240\n",
            "Epoch 3/5\n",
            "100/100 [==============================] - 11s 109ms/step - loss: 0.3861 - accuracy: 0.8250 - val_loss: 0.6482 - val_accuracy: 0.7120\n",
            "Epoch 4/5\n",
            "100/100 [==============================] - 11s 110ms/step - loss: 0.2883 - accuracy: 0.8760 - val_loss: 0.6295 - val_accuracy: 0.7420\n",
            "Epoch 5/5\n",
            "100/100 [==============================] - 11s 109ms/step - loss: 0.1824 - accuracy: 0.9305 - val_loss: 0.8078 - val_accuracy: 0.7250\n"
          ]
        }
      ]
    },
    {
      "cell_type": "markdown",
      "metadata": {
        "id": "KkQTCu99GpdZ"
      },
      "source": [
        "## **Because it is clealy overfitting above, some measures should be used to mitigate it. The first here is augmented data**"
      ],
      "id": "KkQTCu99GpdZ"
    },
    {
      "cell_type": "code",
      "metadata": {
        "id": "OgeLHQJ-GpO7",
        "outputId": "9ed61353-bc68-4640-d766-337fac12424b",
        "colab": {
          "base_uri": "https://localhost:8080/"
        }
      },
      "source": [
        "# new generator for train and test data for augmented data\n",
        "train_datagen = ImageDataGenerator(\n",
        "    rescale=1 / 255,\n",
        "    rotation_range=40,\n",
        "    width_shift_range=0.2,\n",
        "    height_shift_range=0.1,\n",
        "    zoom_range=0.3,\n",
        "    horizontal_flip=True,\n",
        "    fill_mode='nearest'\n",
        ")\n",
        "\n",
        "\n",
        "train_generator = train_datagen.flow_from_directory(\n",
        "    directory = train_dir,\n",
        "    target_size = (150, 150),\n",
        "    batch_size=10,\n",
        "    class_mode = 'binary'\n",
        ")\n",
        "\n",
        "validation_datagen = ImageDataGenerator(1./255)\n",
        "\n",
        "\n",
        "validation_generator = validation_datagen.flow_from_directory(\n",
        "        directory = validation_dir,\n",
        "        target_size = (150, 150),\n",
        "        batch_size = 64,\n",
        "        class_mode = 'binary'\n",
        ")\n"
      ],
      "id": "OgeLHQJ-GpO7",
      "execution_count": 11,
      "outputs": [
        {
          "output_type": "stream",
          "name": "stdout",
          "text": [
            "Found 2000 images belonging to 2 classes.\n",
            "Found 1000 images belonging to 2 classes.\n"
          ]
        }
      ]
    },
    {
      "cell_type": "code",
      "metadata": {
        "id": "sPceQ__JGnrc",
        "outputId": "674c4feb-d0d4-41d5-f138-fe2e61d0cfb8",
        "colab": {
          "base_uri": "https://localhost:8080/"
        }
      },
      "source": [
        "train_result = model.fit(train_generator,\n",
        "                              validation_data=validation_generator,\n",
        "                              epochs=5,\n",
        "                              verbose=1)"
      ],
      "id": "sPceQ__JGnrc",
      "execution_count": 13,
      "outputs": [
        {
          "output_type": "stream",
          "name": "stdout",
          "text": [
            "Epoch 1/5\n",
            "200/200 [==============================] - ETA: 0s - loss: 0.6199 - accuracy: 0.6600"
          ]
        },
        {
          "output_type": "stream",
          "name": "stderr",
          "text": [
            "/usr/local/lib/python3.7/dist-packages/keras_preprocessing/image/image_data_generator.py:720: UserWarning: This ImageDataGenerator specifies `featurewise_center`, but it hasn't been fit on any training data. Fit it first by calling `.fit(numpy_data)`.\n",
            "  warnings.warn('This ImageDataGenerator specifies '\n"
          ]
        },
        {
          "output_type": "stream",
          "name": "stdout",
          "text": [
            "200/200 [==============================] - 23s 115ms/step - loss: 0.6199 - accuracy: 0.6600 - val_loss: 128.7380 - val_accuracy: 0.6520\n",
            "Epoch 2/5\n",
            "200/200 [==============================] - 23s 113ms/step - loss: 0.6094 - accuracy: 0.6825 - val_loss: 78.8363 - val_accuracy: 0.6570\n",
            "Epoch 3/5\n",
            "200/200 [==============================] - 23s 114ms/step - loss: 0.6035 - accuracy: 0.6925 - val_loss: 73.5780 - val_accuracy: 0.6630\n",
            "Epoch 4/5\n",
            "200/200 [==============================] - 23s 114ms/step - loss: 0.5860 - accuracy: 0.7000 - val_loss: 67.6062 - val_accuracy: 0.6690\n",
            "Epoch 5/5\n",
            "200/200 [==============================] - 23s 114ms/step - loss: 0.5890 - accuracy: 0.7035 - val_loss: 255.4559 - val_accuracy: 0.5650\n"
          ]
        }
      ]
    },
    {
      "cell_type": "markdown",
      "metadata": {
        "id": "Wy9JBj8mIdQX"
      },
      "source": [
        "## **Even though the overfiting is now not as prominent, accuracy can certainly be improved.**"
      ],
      "id": "Wy9JBj8mIdQX"
    },
    {
      "cell_type": "markdown",
      "metadata": {
        "id": "41eM4lZ4IsF-"
      },
      "source": [
        "## **lets use transfer learning next**"
      ],
      "id": "41eM4lZ4IsF-"
    },
    {
      "cell_type": "code",
      "metadata": {
        "id": "NqIdd7NcIo5m"
      },
      "source": [
        ""
      ],
      "id": "NqIdd7NcIo5m",
      "execution_count": null,
      "outputs": []
    }
  ]
}