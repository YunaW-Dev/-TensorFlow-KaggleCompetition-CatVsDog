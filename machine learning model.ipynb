{
  "nbformat": 4,
  "nbformat_minor": 5,
  "metadata": {
    "kernelspec": {
      "display_name": "Python 3 (ipykernel)",
      "language": "python",
      "name": "python3"
    },
    "language_info": {
      "codemirror_mode": {
        "name": "ipython",
        "version": 3
      },
      "file_extension": ".py",
      "mimetype": "text/x-python",
      "name": "python",
      "nbconvert_exporter": "python",
      "pygments_lexer": "ipython3",
      "version": "3.7.11"
    },
    "colab": {
      "name": "machine learning model.ipynb",
      "provenance": [],
      "include_colab_link": true
    },
    "accelerator": "GPU"
  },
  "cells": [
    {
      "cell_type": "markdown",
      "metadata": {
        "id": "view-in-github",
        "colab_type": "text"
      },
      "source": [
        "<a href=\"https://colab.research.google.com/github/YunaW-Dev/-TensorFlow-KaggleCompetition-CatVsDog/blob/main/machine%20learning%20model.ipynb\" target=\"_parent\"><img src=\"https://colab.research.google.com/assets/colab-badge.svg\" alt=\"Open In Colab\"/></a>"
      ]
    },
    {
      "cell_type": "code",
      "metadata": {
        "id": "d753beb3-22e2-451e-9f4b-54d2f75439e9",
        "colab": {
          "base_uri": "https://localhost:8080/"
        },
        "outputId": "2812bf67-d859-428f-a5a7-57062c525900"
      },
      "source": [
        "!wget https://storage.googleapis.com/mledu-datasets/cats_and_dogs_filtered.zip"
      ],
      "id": "d753beb3-22e2-451e-9f4b-54d2f75439e9",
      "execution_count": 14,
      "outputs": [
        {
          "output_type": "stream",
          "name": "stdout",
          "text": [
            "--2021-11-05 15:45:47--  https://storage.googleapis.com/mledu-datasets/cats_and_dogs_filtered.zip\n",
            "Resolving storage.googleapis.com (storage.googleapis.com)... 108.177.120.128, 142.250.128.128, 142.251.6.128, ...\n",
            "Connecting to storage.googleapis.com (storage.googleapis.com)|108.177.120.128|:443... connected.\n",
            "HTTP request sent, awaiting response... 200 OK\n",
            "Length: 68606236 (65M) [application/zip]\n",
            "Saving to: ‘cats_and_dogs_filtered.zip.1’\n",
            "\n",
            "cats_and_dogs_filte 100%[===================>]  65.43M   168MB/s    in 0.4s    \n",
            "\n",
            "2021-11-05 15:45:47 (168 MB/s) - ‘cats_and_dogs_filtered.zip.1’ saved [68606236/68606236]\n",
            "\n"
          ]
        }
      ]
    },
    {
      "cell_type": "code",
      "metadata": {
        "id": "hroQfMPmvnBf"
      },
      "source": [
        "import zipfile\n",
        "\n",
        "zip_dir= 'cats_and_dogs_filtered.zip'\n",
        "zip =zipfile.ZipFile(zip_dir, 'r')\n",
        "zip.extractall()\n",
        "zip.close()"
      ],
      "id": "hroQfMPmvnBf",
      "execution_count": 15,
      "outputs": []
    },
    {
      "cell_type": "code",
      "metadata": {
        "id": "wWes94qFv0m2"
      },
      "source": [
        "import os\n",
        "base_dir= 'cats_and_dogs_filtered'\n",
        "train_dir= os.path.join(base_dir, 'train')\n",
        "validation_dir= os.path.join(base_dir, 'validation')\n",
        "train_cats_dir= os.path.join(train_dir, 'cats')\n",
        "train_dogs_dir= os.path.join(train_dir, 'dogs')\n",
        "validation_cats_dir=os.path.join(validation_dir, 'cats')\n",
        "validation_dogs_dir=os.path.join(validation_dir, 'dogs')"
      ],
      "id": "wWes94qFv0m2",
      "execution_count": 16,
      "outputs": []
    },
    {
      "cell_type": "code",
      "metadata": {
        "colab": {
          "base_uri": "https://localhost:8080/"
        },
        "id": "zPptQOpSwNYX",
        "outputId": "58eb4c97-f68c-473a-aa88-bee843c4e7ef"
      },
      "source": [
        "from tensorflow.keras.preprocessing.image import ImageDataGenerator\n",
        "train_data=ImageDataGenerator( rescale = 1.0/255 )\n",
        "test_data=ImageDataGenerator( rescale = 1.0/255 )\n",
        "train_generator=train_data.flow_from_directory(train_dir,\n",
        "                                                    batch_size=20,\n",
        "                                                    class_mode='binary',\n",
        "                                                    target_size=(150, 150))     \n",
        "validation_generator=test_data.flow_from_directory(validation_dir,\n",
        "                                                         batch_size=20,\n",
        "                                                         class_mode  = 'binary',\n",
        "                                                         target_size = (150, 150))"
      ],
      "id": "zPptQOpSwNYX",
      "execution_count": 17,
      "outputs": [
        {
          "output_type": "stream",
          "name": "stdout",
          "text": [
            "Found 2000 images belonging to 2 classes.\n",
            "Found 1000 images belonging to 2 classes.\n"
          ]
        }
      ]
    },
    {
      "cell_type": "code",
      "metadata": {
        "colab": {
          "base_uri": "https://localhost:8080/"
        },
        "id": "m4yLjnctv7cm",
        "outputId": "d03240c6-1d6c-4dc1-bcef-1f97e657f7e3"
      },
      "source": [
        "import tensorflow as tf\n",
        "model = tf.keras.models.Sequential([\n",
        "    tf.keras.layers.Conv2D(16, (3,3), activation='relu', input_shape=(150, 150, 3)),\n",
        "    tf.keras.layers.MaxPooling2D(2,2),\n",
        "    tf.keras.layers.Conv2D(32, (3,3), activation='relu'),\n",
        "    tf.keras.layers.MaxPooling2D(2,2), \n",
        "    tf.keras.layers.Conv2D(64, (3,3), activation='relu'), \n",
        "    tf.keras.layers.MaxPooling2D(2,2),\n",
        "    tf.keras.layers.Flatten(), \n",
        "    tf.keras.layers.Dense(1024, activation='relu'), \n",
        "    tf.keras.layers.Dense(1, activation='sigmoid')  \n",
        "])\n",
        "model.summary()"
      ],
      "id": "m4yLjnctv7cm",
      "execution_count": 18,
      "outputs": [
        {
          "output_type": "stream",
          "name": "stdout",
          "text": [
            "Model: \"sequential_1\"\n",
            "_________________________________________________________________\n",
            "Layer (type)                 Output Shape              Param #   \n",
            "=================================================================\n",
            "conv2d_3 (Conv2D)            (None, 148, 148, 16)      448       \n",
            "_________________________________________________________________\n",
            "max_pooling2d_3 (MaxPooling2 (None, 74, 74, 16)        0         \n",
            "_________________________________________________________________\n",
            "conv2d_4 (Conv2D)            (None, 72, 72, 32)        4640      \n",
            "_________________________________________________________________\n",
            "max_pooling2d_4 (MaxPooling2 (None, 36, 36, 32)        0         \n",
            "_________________________________________________________________\n",
            "conv2d_5 (Conv2D)            (None, 34, 34, 64)        18496     \n",
            "_________________________________________________________________\n",
            "max_pooling2d_5 (MaxPooling2 (None, 17, 17, 64)        0         \n",
            "_________________________________________________________________\n",
            "flatten_1 (Flatten)          (None, 18496)             0         \n",
            "_________________________________________________________________\n",
            "dense_2 (Dense)              (None, 1024)              18940928  \n",
            "_________________________________________________________________\n",
            "dense_3 (Dense)              (None, 1)                 1025      \n",
            "=================================================================\n",
            "Total params: 18,965,537\n",
            "Trainable params: 18,965,537\n",
            "Non-trainable params: 0\n",
            "_________________________________________________________________\n"
          ]
        }
      ]
    },
    {
      "cell_type": "code",
      "metadata": {
        "id": "t8myxJszxJEJ"
      },
      "source": [
        "model.compile(optimizer=RMSprop(learning_rate=0.001),\n",
        "              loss='binary_crossentropy',\n",
        "              metrics = ['accuracy'])"
      ],
      "id": "t8myxJszxJEJ",
      "execution_count": 19,
      "outputs": []
    },
    {
      "cell_type": "code",
      "metadata": {
        "colab": {
          "base_uri": "https://localhost:8080/"
        },
        "id": "9-_hnoOCwKox",
        "outputId": "70578cda-a92a-4bcf-a0af-a6c0ddce8d42"
      },
      "source": [
        "# class myCallback(tf.keras.callbacks.Callback):\n",
        "#       def on_epoch_end(self, epochs, logs={}):\n",
        "#             if (logs.get('acc')>0.98):\n",
        "#                 self.model.stop_training = True\n",
        "\n",
        "train_result = model.fit(train_generator,\n",
        "                              validation_data=validation_generator,\n",
        "                              steps_per_epoch=100,\n",
        "                              epochs=15,\n",
        "                              validation_steps=50,\n",
        "                              verbose=1)"
      ],
      "id": "9-_hnoOCwKox",
      "execution_count": 21,
      "outputs": [
        {
          "output_type": "stream",
          "name": "stdout",
          "text": [
            "Epoch 1/15\n",
            "100/100 [==============================] - 11s 106ms/step - loss: 0.6713 - accuracy: 0.6440 - val_loss: 0.6056 - val_accuracy: 0.6990\n",
            "Epoch 2/15\n",
            "100/100 [==============================] - 11s 109ms/step - loss: 0.5686 - accuracy: 0.7155 - val_loss: 0.8448 - val_accuracy: 0.5880\n",
            "Epoch 3/15\n",
            "100/100 [==============================] - 11s 110ms/step - loss: 0.5030 - accuracy: 0.7755 - val_loss: 0.5946 - val_accuracy: 0.7160\n",
            "Epoch 4/15\n",
            "100/100 [==============================] - 11s 111ms/step - loss: 0.4088 - accuracy: 0.8070 - val_loss: 0.6060 - val_accuracy: 0.7150\n",
            "Epoch 5/15\n",
            "100/100 [==============================] - 11s 109ms/step - loss: 0.3190 - accuracy: 0.8570 - val_loss: 0.7012 - val_accuracy: 0.7150\n",
            "Epoch 6/15\n",
            "100/100 [==============================] - 11s 110ms/step - loss: 0.2221 - accuracy: 0.9110 - val_loss: 1.0213 - val_accuracy: 0.6870\n",
            "Epoch 7/15\n",
            "100/100 [==============================] - 11s 111ms/step - loss: 0.1599 - accuracy: 0.9385 - val_loss: 1.2567 - val_accuracy: 0.7050\n",
            "Epoch 8/15\n",
            "100/100 [==============================] - 11s 115ms/step - loss: 0.1253 - accuracy: 0.9530 - val_loss: 1.3434 - val_accuracy: 0.6980\n",
            "Epoch 9/15\n",
            "100/100 [==============================] - 12s 116ms/step - loss: 0.0695 - accuracy: 0.9770 - val_loss: 1.4054 - val_accuracy: 0.7040\n",
            "Epoch 10/15\n",
            "100/100 [==============================] - 12s 116ms/step - loss: 0.0639 - accuracy: 0.9890 - val_loss: 1.5459 - val_accuracy: 0.6750\n",
            "Epoch 11/15\n",
            "100/100 [==============================] - 12s 116ms/step - loss: 0.0512 - accuracy: 0.9855 - val_loss: 1.6173 - val_accuracy: 0.7070\n",
            "Epoch 12/15\n",
            "100/100 [==============================] - 12s 116ms/step - loss: 0.0569 - accuracy: 0.9870 - val_loss: 1.8390 - val_accuracy: 0.7170\n",
            "Epoch 13/15\n",
            "100/100 [==============================] - 12s 116ms/step - loss: 0.0779 - accuracy: 0.9855 - val_loss: 2.1509 - val_accuracy: 0.7100\n",
            "Epoch 14/15\n",
            "100/100 [==============================] - 12s 116ms/step - loss: 0.0748 - accuracy: 0.9870 - val_loss: 2.0029 - val_accuracy: 0.6930\n",
            "Epoch 15/15\n",
            "100/100 [==============================] - 12s 116ms/step - loss: 0.0257 - accuracy: 0.9960 - val_loss: 2.3381 - val_accuracy: 0.7050\n"
          ]
        }
      ]
    }
  ]
}